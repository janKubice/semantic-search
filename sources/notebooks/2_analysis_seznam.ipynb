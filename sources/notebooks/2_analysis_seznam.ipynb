{
 "cells": [
  {
   "cell_type": "code",
   "execution_count": 1,
   "metadata": {},
   "outputs": [],
   "source": [
    "import pandas as pd\n",
    "import numpy as np\n",
    "import matplotlib.pyplot as plt\n",
    "from collections import Counter\n",
    "from spacy.lang.cs import Czech, STOP_WORDS\n",
    "import seaborn as sns\n",
    "import csv\n",
    "import os\n",
    "import re"
   ]
  },
  {
   "cell_type": "code",
   "execution_count": 2,
   "metadata": {},
   "outputs": [],
   "source": [
    "file_name = 'X:/Data/BP/dareczech/train_big.tsv'"
   ]
  },
  {
   "cell_type": "code",
   "execution_count": 11,
   "metadata": {},
   "outputs": [],
   "source": [
    "no_string_query = 0\n",
    "no_string_doc = 0\n",
    "no_string_title = 0\n",
    "no_string_id = 0\n",
    "\n",
    "empty_string_query = 0\n",
    "empty_string_doc = 0\n",
    "empty_string_title = 0\n",
    "empty_string_id = 0\n",
    "\n",
    "for chunk in pd.read_csv(file_name, dtype={'query':str,'url':str,'doc':str,'title':str} ,sep='\\t', chunksize=100000):\n",
    "    no_string_query += len(chunk.loc[chunk['query'].astype(str).str.isnumeric()])\n",
    "    no_string_doc += len(chunk.loc[chunk['doc'].astype(str).str.isnumeric()])\n",
    "    no_string_title += len(chunk.loc[chunk['title'].astype(str).str.isnumeric()])\n",
    "    no_string_id += len(chunk.loc[chunk['id'].astype(str).str.isnumeric()])\n",
    "\n",
    "    #empty_string_query += len(chunk.loc[chunk['query'].astype(str).str.len() <= 1])\n",
    "    #empty_string_doc += len(chunk.loc[chunk['doc'].astype(str).str.len() <= 1])\n",
    "    #empty_string_title += len(chunk.loc[chunk['title'].astype(str).str.len() <= 1])\n",
    "    #empty_string_id += len(chunk.loc[chunk['id'].astype(str).str.len() <= 1])\n",
    "\n",
    "    empty_string_query += len(chunk.loc[chunk['query'].astype(str).str.len() <= 3])\n",
    "    empty_string_query += len(chunk.loc[chunk['doc'].astype(str).str.len() <= 3])\n",
    "    empty_string_query += len(chunk.loc[chunk['title'].astype(str).str.len() <= 3])\n",
    "\n",
    "    #for col in chunk:\n",
    "    #    chunk[col] = chunk[col].astype(str)\n",
    "    #    chunk[col] = chunk[col].map(lambda x: re.sub(r'\\W+', ' ', x))\n",
    "    #    chunk[col] = chunk[col].map(lambda x: re.sub(\" \\d+\", '', x))"
   ]
  },
  {
   "cell_type": "code",
   "execution_count": 12,
   "metadata": {},
   "outputs": [
    {
     "name": "stdout",
     "output_type": "stream",
     "text": [
      "Počet netextových buněk v query sloupci 3053\n",
      "Počet netextových buněk v doc sloupci 0\n",
      "Počet netextových buněk v title sloupci 764\n",
      "Počet netextových buněk v id sloupci 0\n"
     ]
    }
   ],
   "source": [
    "print('Počet netextových buněk v query sloupci ' + str(no_string_query))\n",
    "print('Počet netextových buněk v doc sloupci ' + str(no_string_doc))\n",
    "print('Počet netextových buněk v title sloupci ' + str(no_string_title))\n",
    "print('Počet netextových buněk v id sloupci ' + str(no_string_id))"
   ]
  },
  {
   "cell_type": "code",
   "execution_count": 14,
   "metadata": {},
   "outputs": [
    {
     "name": "stdout",
     "output_type": "stream",
     "text": [
      "Počet prázdných buněk v query sloupci 25452\n",
      "Počet prázdných buněk v doc sloupci 0\n",
      "Počet prázdných buněk v title sloupci 0\n",
      "Počet prázdných buněk v id sloupci 0\n"
     ]
    }
   ],
   "source": [
    "print('Počet prázdných buněk v query sloupci ' + str(empty_string_query))\n",
    "print('Počet prázdných buněk v doc sloupci ' + str(empty_string_doc))\n",
    "print('Počet prázdných buněk v title sloupci ' + str(empty_string_title))\n",
    "print('Počet prázdných buněk v id sloupci ' + str(empty_string_id))"
   ]
  },
  {
   "cell_type": "code",
   "execution_count": 10,
   "metadata": {},
   "outputs": [],
   "source": [
    "chars_query = []\n",
    "chars_doc = []\n",
    "chars_title = []\n",
    "\n",
    "words_query = []\n",
    "words_doc = []\n",
    "words_title = []\n",
    "\n",
    "\n",
    "for chunk in pd.read_csv(file_name, dtype={'query':str,'url':str,'doc':str,'title':str} ,sep='\\t', chunksize=100000):\n",
    "    chars_query.extend(chunk['query'].str.len())\n",
    "    chars_doc.extend(chunk['doc'].str.len())\n",
    "    chars_title.extend(chunk['title'].str.len())\n",
    "\n",
    "    words_query.extend(chunk['query'].str.split().map(lambda x: len(x)))\n",
    "    words_doc.extend(chunk['doc'].str.split().map(lambda x: len(x)))\n",
    "    words_title.extend(chunk['title'].str.split().map(lambda x: len(x)))\n"
   ]
  },
  {
   "cell_type": "code",
   "execution_count": null,
   "metadata": {},
   "outputs": [],
   "source": [
    "def plot_data(data, bins, path, col, what, min = None, max = None):\n",
    "    fig, axes = plt.subplots(nrows=1, ncols=2, figsize=(14, 4))\n",
    "\n",
    "    axes[0].hist(data, bins=bins, density=True)\n",
    "    axes[0].set_title(f'Počet {what} v {col}')\n",
    "    axes[0].set_xlabel(f'počet {what}')\n",
    "    axes[0].set_ylabel(f'% dokumentů')\n",
    "\n",
    "    axes[1].hist(chars_query, bins=bins, density=True)\n",
    "    axes[1].set_title(f'Počet {what} v {col} (výřez)')\n",
    "    axes[1].set_xlabel(f'počet {what}')\n",
    "    axes[1].set_ylabel(f'% dokumentů')\n",
    "    if min != None and max != None:\n",
    "        axes[1].set_xlim(xmin=min, xmax = max)\n",
    "    plt.savefig(path, dpi=600)"
   ]
  },
  {
   "cell_type": "code",
   "execution_count": null,
   "metadata": {},
   "outputs": [],
   "source": [
    "plot_data()"
   ]
  },
  {
   "cell_type": "code",
   "execution_count": null,
   "metadata": {},
   "outputs": [],
   "source": [
    "plot_data()"
   ]
  },
  {
   "cell_type": "code",
   "execution_count": null,
   "metadata": {},
   "outputs": [],
   "source": [
    "plot_data()"
   ]
  },
  {
   "cell_type": "code",
   "execution_count": null,
   "metadata": {},
   "outputs": [],
   "source": [
    "plot_data()"
   ]
  },
  {
   "cell_type": "code",
   "execution_count": null,
   "metadata": {},
   "outputs": [],
   "source": [
    "plot_data()"
   ]
  },
  {
   "cell_type": "markdown",
   "metadata": {},
   "source": []
  },
  {
   "cell_type": "code",
   "execution_count": null,
   "metadata": {},
   "outputs": [],
   "source": [
    "plot_data()"
   ]
  }
 ],
 "metadata": {
  "kernelspec": {
   "display_name": "Python 3.9.7 64-bit",
   "language": "python",
   "name": "python3"
  },
  "language_info": {
   "codemirror_mode": {
    "name": "ipython",
    "version": 3
   },
   "file_extension": ".py",
   "mimetype": "text/x-python",
   "name": "python",
   "nbconvert_exporter": "python",
   "pygments_lexer": "ipython3",
   "version": "3.9.7"
  },
  "orig_nbformat": 4,
  "vscode": {
   "interpreter": {
    "hash": "8f5816e6188795d1cc8afa4306b69c5e3a103f064a75e820fe776234e4cf83e8"
   }
  }
 },
 "nbformat": 4,
 "nbformat_minor": 2
}
