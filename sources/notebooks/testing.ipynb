{
 "cells": [
  {
   "cell_type": "code",
   "execution_count": 1,
   "source": [
    "import json\r\n",
    "import pandas as pd\r\n",
    "\r\n",
    "with open(\"BP_data/czechData.json\", encoding=\"utf8\") as f:\r\n",
    "    docs = json.load(f)\r\n",
    "\r\n",
    "docs = pd.DataFrame(docs)"
   ],
   "outputs": [],
   "metadata": {}
  },
  {
   "cell_type": "code",
   "execution_count": 2,
   "source": [
    "docs.head()"
   ],
   "outputs": [
    {
     "output_type": "execute_result",
     "data": {
      "text/plain": [
       "                                                text      id  \\\n",
       "0  Příchod nové evropské měny o půlnoci na 1. led...      d1   \n",
       "1  Česká republika se sice zatím k jednotné evrop...  d14000   \n",
       "2  V době, kdy eurobankomaty už několik hodin vyd...      d2   \n",
       "3  Jak na Nový rok, tak po celý rok. Platí-li zná...      d3   \n",
       "4  V první vteřině roku 2002 se v havlíčkobrodské...  d14001   \n",
       "\n",
       "                                               title                     date  \n",
       "0  \\n304 miliony lidí ve 12 zemích si začalo vymě...  Jan 2, 2002 12:00:00 AM  \n",
       "1                                                     Jan 2, 2002 12:00:00 AM  \n",
       "2                                                     Jan 2, 2002 12:00:00 AM  \n",
       "3  \\nDva na jednoho. Zeman a Klaus ve svém prvním...  Jan 2, 2002 12:00:00 AM  \n",
       "4                                                     Jan 2, 2002 12:00:00 AM  "
      ],
      "text/html": [
       "<div>\n",
       "<style scoped>\n",
       "    .dataframe tbody tr th:only-of-type {\n",
       "        vertical-align: middle;\n",
       "    }\n",
       "\n",
       "    .dataframe tbody tr th {\n",
       "        vertical-align: top;\n",
       "    }\n",
       "\n",
       "    .dataframe thead th {\n",
       "        text-align: right;\n",
       "    }\n",
       "</style>\n",
       "<table border=\"1\" class=\"dataframe\">\n",
       "  <thead>\n",
       "    <tr style=\"text-align: right;\">\n",
       "      <th></th>\n",
       "      <th>text</th>\n",
       "      <th>id</th>\n",
       "      <th>title</th>\n",
       "      <th>date</th>\n",
       "    </tr>\n",
       "  </thead>\n",
       "  <tbody>\n",
       "    <tr>\n",
       "      <th>0</th>\n",
       "      <td>Příchod nové evropské měny o půlnoci na 1. led...</td>\n",
       "      <td>d1</td>\n",
       "      <td>\\n304 miliony lidí ve 12 zemích si začalo vymě...</td>\n",
       "      <td>Jan 2, 2002 12:00:00 AM</td>\n",
       "    </tr>\n",
       "    <tr>\n",
       "      <th>1</th>\n",
       "      <td>Česká republika se sice zatím k jednotné evrop...</td>\n",
       "      <td>d14000</td>\n",
       "      <td></td>\n",
       "      <td>Jan 2, 2002 12:00:00 AM</td>\n",
       "    </tr>\n",
       "    <tr>\n",
       "      <th>2</th>\n",
       "      <td>V době, kdy eurobankomaty už několik hodin vyd...</td>\n",
       "      <td>d2</td>\n",
       "      <td></td>\n",
       "      <td>Jan 2, 2002 12:00:00 AM</td>\n",
       "    </tr>\n",
       "    <tr>\n",
       "      <th>3</th>\n",
       "      <td>Jak na Nový rok, tak po celý rok. Platí-li zná...</td>\n",
       "      <td>d3</td>\n",
       "      <td>\\nDva na jednoho. Zeman a Klaus ve svém prvním...</td>\n",
       "      <td>Jan 2, 2002 12:00:00 AM</td>\n",
       "    </tr>\n",
       "    <tr>\n",
       "      <th>4</th>\n",
       "      <td>V první vteřině roku 2002 se v havlíčkobrodské...</td>\n",
       "      <td>d14001</td>\n",
       "      <td></td>\n",
       "      <td>Jan 2, 2002 12:00:00 AM</td>\n",
       "    </tr>\n",
       "  </tbody>\n",
       "</table>\n",
       "</div>"
      ]
     },
     "metadata": {},
     "execution_count": 2
    }
   ],
   "metadata": {}
  },
  {
   "cell_type": "code",
   "execution_count": 10,
   "source": [
    "docs.loc[docs['id']=='d1']['title'][0]"
   ],
   "outputs": [
    {
     "output_type": "execute_result",
     "data": {
      "text/plain": [
       "'\\n304 miliony lidí ve 12 zemích si začalo vyměňovat své peníze za eura. Největší měnová revoluce v dějinách evropského kontinentu začala včera o půlnoci.\\n'"
      ]
     },
     "metadata": {},
     "execution_count": 10
    }
   ],
   "metadata": {}
  },
  {
   "cell_type": "code",
   "execution_count": null,
   "source": [],
   "outputs": [],
   "metadata": {}
  }
 ],
 "metadata": {
  "orig_nbformat": 4,
  "language_info": {
   "name": "python",
   "version": "3.8.6",
   "mimetype": "text/x-python",
   "codemirror_mode": {
    "name": "ipython",
    "version": 3
   },
   "pygments_lexer": "ipython3",
   "nbconvert_exporter": "python",
   "file_extension": ".py"
  },
  "kernelspec": {
   "name": "python3",
   "display_name": "Python 3.8.6 64-bit"
  },
  "interpreter": {
   "hash": "1d41587b1448a779064ac33a32e943fc6647f5c1e0872f91ac9888f04b933bee"
  }
 },
 "nbformat": 4,
 "nbformat_minor": 2
}