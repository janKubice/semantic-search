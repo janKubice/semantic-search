{
 "cells": [
  {
   "cell_type": "code",
   "execution_count": 38,
   "metadata": {},
   "outputs": [],
   "source": [
    "import csv\n",
    "import pandas as pd"
   ]
  },
  {
   "cell_type": "code",
   "execution_count": 39,
   "metadata": {},
   "outputs": [],
   "source": [
    "file = open('X:/Data/BP/dareczech/dev.tsv', encoding=\"utf8\")"
   ]
  },
  {
   "cell_type": "code",
   "execution_count": 40,
   "metadata": {},
   "outputs": [],
   "source": [
    "text = csv.reader(file, delimiter='\\t', quoting=csv.QUOTE_NONE)\n",
    "dataframe = pd.DataFrame(text)"
   ]
  },
  {
   "cell_type": "code",
   "execution_count": 41,
   "metadata": {},
   "outputs": [],
   "source": [
    "dataframe.columns = dataframe.iloc[0]\n",
    "dataframe = dataframe[1:]"
   ]
  },
  {
   "cell_type": "code",
   "execution_count": 42,
   "metadata": {},
   "outputs": [
    {
     "data": {
      "text/html": [
       "<div>\n",
       "<style scoped>\n",
       "    .dataframe tbody tr th:only-of-type {\n",
       "        vertical-align: middle;\n",
       "    }\n",
       "\n",
       "    .dataframe tbody tr th {\n",
       "        vertical-align: top;\n",
       "    }\n",
       "\n",
       "    .dataframe thead th {\n",
       "        text-align: right;\n",
       "    }\n",
       "</style>\n",
       "<table border=\"1\" class=\"dataframe\">\n",
       "  <thead>\n",
       "    <tr style=\"text-align: right;\">\n",
       "      <th></th>\n",
       "      <th>id</th>\n",
       "      <th>query</th>\n",
       "      <th>url</th>\n",
       "      <th>doc</th>\n",
       "      <th>title</th>\n",
       "      <th>label</th>\n",
       "    </tr>\n",
       "  </thead>\n",
       "  <tbody>\n",
       "    <tr>\n",
       "      <th>1</th>\n",
       "      <td>dev_0</td>\n",
       "      <td>je zpoplatněny výpis z lékařské karty pacientů</td>\n",
       "      <td>https://adoc.tips/jan-rektoik-a-milan-motl-oce...</td>\n",
       "      <td>title:  url: adoc.tips/jan rektoik a milan mot...</td>\n",
       "      <td></td>\n",
       "      <td>0.0</td>\n",
       "    </tr>\n",
       "    <tr>\n",
       "      <th>2</th>\n",
       "      <td>dev_1</td>\n",
       "      <td>mechanický předfiltr fws ms31</td>\n",
       "      <td>https://adoc.tips/vznice-s-ostrahou-pro-vykon-...</td>\n",
       "      <td>title: věznice s ostrahou pro výkon trestu rap...</td>\n",
       "      <td>věznice s ostrahou pro výkon trestu rapotice p...</td>\n",
       "      <td>0.0</td>\n",
       "    </tr>\n",
       "    <tr>\n",
       "      <th>3</th>\n",
       "      <td>dev_2</td>\n",
       "      <td>alpentrio tirol grand prix der gefuhle</td>\n",
       "      <td>http://heimatklange.nl/playlist.html</td>\n",
       "      <td>title: playlist url: heimatklange.nl/playlist....</td>\n",
       "      <td>playlist</td>\n",
       "      <td>0.0</td>\n",
       "    </tr>\n",
       "    <tr>\n",
       "      <th>4</th>\n",
       "      <td>dev_3</td>\n",
       "      <td>alpentrio tirol grand prix der gefuhle</td>\n",
       "      <td>https://de.wikipedia.org/wiki/Judith_und_Mel</td>\n",
       "      <td>title: judith und mel url: de.wikipedia.org/wi...</td>\n",
       "      <td>judith und mel wikipedia</td>\n",
       "      <td>0.0</td>\n",
       "    </tr>\n",
       "    <tr>\n",
       "      <th>5</th>\n",
       "      <td>dev_4</td>\n",
       "      <td>pojištěštění vozidla vzor</td>\n",
       "      <td>http://www.buj.cz/Informacni-a-inzertni-server...</td>\n",
       "      <td>title: všeobecné informace url: buj.cz/Informa...</td>\n",
       "      <td>všeobecné informace</td>\n",
       "      <td>0.0</td>\n",
       "    </tr>\n",
       "    <tr>\n",
       "      <th>6</th>\n",
       "      <td>dev_5</td>\n",
       "      <td>pojištěštění vozidla vzor</td>\n",
       "      <td>http://www.hyk.cz/Informacni-a-inzertni-server...</td>\n",
       "      <td>title: všeobecné informace url: hyk.cz/Informa...</td>\n",
       "      <td>všeobecné informace</td>\n",
       "      <td>0.0</td>\n",
       "    </tr>\n",
       "    <tr>\n",
       "      <th>7</th>\n",
       "      <td>dev_6</td>\n",
       "      <td>rossbach bahn lyžování</td>\n",
       "      <td>http://www.alpy.net/pocasi/web-kamery-on-line.php</td>\n",
       "      <td>title: webkamery on line v rakousku url: alpy....</td>\n",
       "      <td>webkamery on line v rakousku</td>\n",
       "      <td>0.0</td>\n",
       "    </tr>\n",
       "    <tr>\n",
       "      <th>8</th>\n",
       "      <td>dev_7</td>\n",
       "      <td>rossbach bahn lyžování</td>\n",
       "      <td>http://www.alpy.net/pocasi/sitemap.php</td>\n",
       "      <td>title: počasí url: alpy.net/pocasi/sitemap.php...</td>\n",
       "      <td>mapa stránek alpy net sekce počasí</td>\n",
       "      <td>0.0</td>\n",
       "    </tr>\n",
       "    <tr>\n",
       "      <th>9</th>\n",
       "      <td>dev_8</td>\n",
       "      <td>rossbach bahn lyžování</td>\n",
       "      <td>http://www.hotzebra.cz/hotely/hummerich/ubytovani</td>\n",
       "      <td>title: hotely hummerich url: hotzebra.cz/hotel...</td>\n",
       "      <td>hotely hummerich hot zebra online rezervace</td>\n",
       "      <td>0.0</td>\n",
       "    </tr>\n",
       "    <tr>\n",
       "      <th>10</th>\n",
       "      <td>dev_9</td>\n",
       "      <td>rossbach bahn lyžování</td>\n",
       "      <td>http://www.alpy.net/informace/sitemap.php</td>\n",
       "      <td>title: informace url: alpy.net/informace/sitem...</td>\n",
       "      <td>mapa stránek alpy net sekce informace</td>\n",
       "      <td>0.0</td>\n",
       "    </tr>\n",
       "  </tbody>\n",
       "</table>\n",
       "</div>"
      ],
      "text/plain": [
       "0      id                                           query  \\\n",
       "1   dev_0  je zpoplatněny výpis z lékařské karty pacientů   \n",
       "2   dev_1                   mechanický předfiltr fws ms31   \n",
       "3   dev_2          alpentrio tirol grand prix der gefuhle   \n",
       "4   dev_3          alpentrio tirol grand prix der gefuhle   \n",
       "5   dev_4                       pojištěštění vozidla vzor   \n",
       "6   dev_5                       pojištěštění vozidla vzor   \n",
       "7   dev_6                          rossbach bahn lyžování   \n",
       "8   dev_7                          rossbach bahn lyžování   \n",
       "9   dev_8                          rossbach bahn lyžování   \n",
       "10  dev_9                          rossbach bahn lyžování   \n",
       "\n",
       "0                                                 url  \\\n",
       "1   https://adoc.tips/jan-rektoik-a-milan-motl-oce...   \n",
       "2   https://adoc.tips/vznice-s-ostrahou-pro-vykon-...   \n",
       "3                http://heimatklange.nl/playlist.html   \n",
       "4        https://de.wikipedia.org/wiki/Judith_und_Mel   \n",
       "5   http://www.buj.cz/Informacni-a-inzertni-server...   \n",
       "6   http://www.hyk.cz/Informacni-a-inzertni-server...   \n",
       "7   http://www.alpy.net/pocasi/web-kamery-on-line.php   \n",
       "8              http://www.alpy.net/pocasi/sitemap.php   \n",
       "9   http://www.hotzebra.cz/hotely/hummerich/ubytovani   \n",
       "10          http://www.alpy.net/informace/sitemap.php   \n",
       "\n",
       "0                                                 doc  \\\n",
       "1   title:  url: adoc.tips/jan rektoik a milan mot...   \n",
       "2   title: věznice s ostrahou pro výkon trestu rap...   \n",
       "3   title: playlist url: heimatklange.nl/playlist....   \n",
       "4   title: judith und mel url: de.wikipedia.org/wi...   \n",
       "5   title: všeobecné informace url: buj.cz/Informa...   \n",
       "6   title: všeobecné informace url: hyk.cz/Informa...   \n",
       "7   title: webkamery on line v rakousku url: alpy....   \n",
       "8   title: počasí url: alpy.net/pocasi/sitemap.php...   \n",
       "9   title: hotely hummerich url: hotzebra.cz/hotel...   \n",
       "10  title: informace url: alpy.net/informace/sitem...   \n",
       "\n",
       "0                                               title label  \n",
       "1                                                       0.0  \n",
       "2   věznice s ostrahou pro výkon trestu rapotice p...   0.0  \n",
       "3                                            playlist   0.0  \n",
       "4                            judith und mel wikipedia   0.0  \n",
       "5                                 všeobecné informace   0.0  \n",
       "6                                 všeobecné informace   0.0  \n",
       "7                        webkamery on line v rakousku   0.0  \n",
       "8                  mapa stránek alpy net sekce počasí   0.0  \n",
       "9         hotely hummerich hot zebra online rezervace   0.0  \n",
       "10              mapa stránek alpy net sekce informace   0.0  "
      ]
     },
     "execution_count": 42,
     "metadata": {},
     "output_type": "execute_result"
    }
   ],
   "source": [
    "dataframe.head(10)"
   ]
  },
  {
   "cell_type": "code",
   "execution_count": 43,
   "metadata": {},
   "outputs": [
    {
     "data": {
      "text/plain": [
       "1.0    15430\n",
       "0.0    13293\n",
       "0.5    12497\n",
       "Name: label, dtype: int64"
      ]
     },
     "execution_count": 43,
     "metadata": {},
     "output_type": "execute_result"
    }
   ],
   "source": [
    "dataframe['label'].value_counts()"
   ]
  },
  {
   "cell_type": "code",
   "execution_count": null,
   "metadata": {},
   "outputs": [],
   "source": []
  }
 ],
 "metadata": {
  "interpreter": {
   "hash": "43435a050d4ac362dc4b1b4851a0333547cf4819a4e47175b9a0f2919a9b0b1b"
  },
  "kernelspec": {
   "display_name": "Python 3.9.7 64-bit",
   "language": "python",
   "name": "python3"
  },
  "language_info": {
   "codemirror_mode": {
    "name": "ipython",
    "version": 3
   },
   "file_extension": ".py",
   "mimetype": "text/x-python",
   "name": "python",
   "nbconvert_exporter": "python",
   "pygments_lexer": "ipython3",
   "version": "3.9.7"
  },
  "orig_nbformat": 4
 },
 "nbformat": 4,
 "nbformat_minor": 2
}
