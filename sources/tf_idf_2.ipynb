{
 "cells": [
  {
   "cell_type": "code",
   "execution_count": 1,
   "source": [
    "from sklearn.feature_extraction.text import TfidfVectorizer\r\n",
    "import numpy as np\r\n",
    "import pandas as pd\r\n",
    "\r\n",
    "sent_1 = \"Pepa jede na kole. Toto kolo si pepa koupil o vánocích\"\r\n",
    "sent_2 = \"Požár budovy v Praze. Požár vypukl ráno.\"\r\n",
    "\r\n",
    "docs = [sent_1,sent_2]\r\n",
    "\r\n",
    "tfidf = TfidfVectorizer()\r\n",
    "\r\n",
    "result = tfidf.fit_transform(docs)"
   ],
   "outputs": [],
   "metadata": {}
  },
  {
   "cell_type": "code",
   "execution_count": 2,
   "source": [
    "print(result)"
   ],
   "outputs": [
    {
     "output_type": "stream",
     "name": "stdout",
     "text": [
      "  (0, 13)\t0.28867513459481287\n",
      "  (0, 4)\t0.28867513459481287\n",
      "  (0, 10)\t0.28867513459481287\n",
      "  (0, 3)\t0.28867513459481287\n",
      "  (0, 11)\t0.28867513459481287\n",
      "  (0, 2)\t0.28867513459481287\n",
      "  (0, 5)\t0.28867513459481287\n",
      "  (0, 1)\t0.28867513459481287\n",
      "  (0, 6)\t0.5773502691896257\n",
      "  (1, 9)\t0.3535533905932738\n",
      "  (1, 12)\t0.3535533905932738\n",
      "  (1, 8)\t0.3535533905932738\n",
      "  (1, 0)\t0.3535533905932738\n",
      "  (1, 7)\t0.7071067811865476\n"
     ]
    }
   ],
   "metadata": {}
  },
  {
   "cell_type": "code",
   "execution_count": 3,
   "source": [
    "print(tfidf.vocabulary_)"
   ],
   "outputs": [
    {
     "output_type": "stream",
     "name": "stdout",
     "text": [
      "{'pepa': 6, 'jede': 1, 'na': 5, 'kole': 2, 'toto': 11, 'kolo': 3, 'si': 10, 'koupil': 4, 'vánocích': 13, 'požár': 7, 'budovy': 0, 'praze': 8, 'vypukl': 12, 'ráno': 9}\n"
     ]
    }
   ],
   "metadata": {}
  },
  {
   "cell_type": "code",
   "execution_count": 4,
   "source": [
    "print(tfidf.idf_)"
   ],
   "outputs": [
    {
     "output_type": "stream",
     "name": "stdout",
     "text": [
      "[1.40546511 1.40546511 1.40546511 1.40546511 1.40546511 1.40546511\n",
      " 1.40546511 1.40546511 1.40546511 1.40546511 1.40546511 1.40546511\n",
      " 1.40546511 1.40546511]\n"
     ]
    }
   ],
   "metadata": {}
  },
  {
   "cell_type": "code",
   "execution_count": 5,
   "source": [
    "print(tfidf.get_feature_names())"
   ],
   "outputs": [
    {
     "output_type": "stream",
     "name": "stdout",
     "text": [
      "['budovy', 'jede', 'kole', 'kolo', 'koupil', 'na', 'pepa', 'požár', 'praze', 'ráno', 'si', 'toto', 'vypukl', 'vánocích']\n"
     ]
    }
   ],
   "metadata": {}
  },
  {
   "cell_type": "code",
   "execution_count": 6,
   "source": [
    "print(tfidf.idf_[::-1])"
   ],
   "outputs": [
    {
     "output_type": "stream",
     "name": "stdout",
     "text": [
      "[1.40546511 1.40546511 1.40546511 1.40546511 1.40546511 1.40546511\n",
      " 1.40546511 1.40546511 1.40546511 1.40546511 1.40546511 1.40546511\n",
      " 1.40546511 1.40546511]\n"
     ]
    }
   ],
   "metadata": {}
  },
  {
   "cell_type": "code",
   "execution_count": 14,
   "source": [
    "indices = np.argsort(tfidf.idf_)[::-1]\r\n",
    "features = tfidf.get_feature_names()\r\n",
    "top_n = 3\r\n",
    "top_features = [features[i] for i in indices[:top_n]]\r\n",
    "print(top_features)"
   ],
   "outputs": [
    {
     "output_type": "stream",
     "name": "stdout",
     "text": [
      "['vánocích', 'vypukl', 'toto']\n"
     ]
    }
   ],
   "metadata": {}
  },
  {
   "cell_type": "code",
   "execution_count": 18,
   "source": [
    "tfidf = TfidfVectorizer()\r\n",
    "X_tfidf = tfidf.fit_transform(docs).toarray()\r\n",
    "vocab = tfidf.vocabulary_\r\n",
    "reverse_vocab = {v:k for k,v in vocab.items()}\r\n",
    "\r\n",
    "feature_names = tfidf.get_feature_names()\r\n",
    "df_tfidf = pd.DataFrame(X_tfidf, columns = feature_names)\r\n",
    "\r\n",
    "idx = X_tfidf.argsort(axis=1)\r\n",
    "\r\n",
    "tfidf_max10 = idx[:,-3:]\r\n",
    "\r\n",
    "df_tfidf['top10'] = [[reverse_vocab.get(item) for item in row] for row in tfidf_max10 ]\r\n",
    "\r\n",
    "df_tfidf['top10']"
   ],
   "outputs": [
    {
     "output_type": "execute_result",
     "data": {
      "text/plain": [
       "0    [toto, vánocích, pepa]\n",
       "1     [ráno, vypukl, požár]\n",
       "Name: top10, dtype: object"
      ]
     },
     "metadata": {},
     "execution_count": 18
    }
   ],
   "metadata": {}
  },
  {
   "cell_type": "code",
   "execution_count": null,
   "source": [],
   "outputs": [],
   "metadata": {}
  }
 ],
 "metadata": {
  "orig_nbformat": 4,
  "language_info": {
   "name": "python"
  }
 },
 "nbformat": 4,
 "nbformat_minor": 2
}