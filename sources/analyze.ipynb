{
 "cells": [
  {
   "cell_type": "code",
   "execution_count": 2,
   "source": [
    "import json\r\n",
    "import pandas as pd"
   ],
   "outputs": [],
   "metadata": {}
  },
  {
   "cell_type": "code",
   "execution_count": 3,
   "source": [
    "with open(\"BP_data/czechData.json\", encoding=\"utf8\") as f:\r\n",
    "    docs = json.load(f)"
   ],
   "outputs": [],
   "metadata": {}
  },
  {
   "cell_type": "code",
   "execution_count": 4,
   "source": [
    "docs = pd.DataFrame(docs)"
   ],
   "outputs": [],
   "metadata": {}
  },
  {
   "cell_type": "code",
   "execution_count": 6,
   "source": [
    "docs.loc[docs['id']=='d1']['text'][0]"
   ],
   "outputs": [
    {
     "output_type": "execute_result",
     "data": {
      "text/plain": [
       "'Příchod nové evropské měny o půlnoci na 1. leden provázely v celé Evropě bouřlivé oslavy a ohňostroje. Lidé stáli fronty před bankomaty na eura, která si pak většinou dlouho prohlíželi. \"Nevypadají jako opravdové. Jsou malé, nesmrdí jako peníze,\" hodnotil nové bankovky Kieran O\\'Brien, turista v Amsterdamu. Přechod na euro probíhá zatím hladce a občané dvanácti zemí jsou většinou nadšeni a zvědaví na novou měnu, radovala se Evropská komise. \"Nic zvláštního se nestalo. V tomto případě jsou žádné zprávy nejlepší zprávy,\" řekl její mluvčí Thomas Gerassimos. Pravou zkoušku má však nová měna teprve před sebou. Dnes se otevřou všechny banky a obchody. A teprve v tento okamžik se uvidí, zda se obchodníci dostatečně předzásobili eurem a vyškolili personál, aby s novou měnou uměl zacházet. Evropská unie se snažila přechod předem důkladně připravit. Mezi obchodníky bylo rozvezeno šest miliard bankovek a 37,5 miliardy mincí v celkové hodnotě 144 miliard eur. Euro zavedlo dvanáct zemí Evropské unie: Francie, Německo, Itálie, Španělsko, Belgie, Nizozemsko, Portugalsko, Rakousko, Finsko, Řecko, Irsko a Lucembursko. K nim se připojila také Černá Hora, která doposud používala německou marku, Kosovo, Monako, Andorra a také San Marino a Vatikán. Euro vstoupilo do oběhu už v roce 1999 v elektronické podobě - v bankách, na finančních trzích, v bezhotovostním styku.\\nKolik stojí jedno euro\\nzemě měna kurs\\nBelgie BEF 40,39\\nBritánie GBP 0,61\\nČESKO CZK 31,98\\nFinsko FIM 5,95\\nFrancie FRF 6,55\\nIrsko IEP 0,78\\nItálie ITL 1936,27\\nLucembursko LUF 40,34\\nNěmecko DEM 1,95\\nNizozemsko NLG 2,20\\nPortugalsko PTE 200,48\\nRakousko ATS 13,76\\nŘecko GRD 340,75 Španělsko ESP 166,38\\nUSA USD 0,89\\nEvropa přivítala euro\\nTéma na stranách 2 až 4\\nPříloha na stranách 13 až 16'"
      ]
     },
     "metadata": {},
     "execution_count": 6
    }
   ],
   "metadata": {}
  },
  {
   "cell_type": "code",
   "execution_count": null,
   "source": [],
   "outputs": [],
   "metadata": {}
  }
 ],
 "metadata": {
  "orig_nbformat": 4,
  "language_info": {
   "name": "python",
   "version": "3.8.6",
   "mimetype": "text/x-python",
   "codemirror_mode": {
    "name": "ipython",
    "version": 3
   },
   "pygments_lexer": "ipython3",
   "nbconvert_exporter": "python",
   "file_extension": ".py"
  },
  "kernelspec": {
   "name": "python3",
   "display_name": "Python 3.8.6 64-bit"
  },
  "interpreter": {
   "hash": "1d41587b1448a779064ac33a32e943fc6647f5c1e0872f91ac9888f04b933bee"
  }
 },
 "nbformat": 4,
 "nbformat_minor": 2
}