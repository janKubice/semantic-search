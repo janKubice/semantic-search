{
 "cells": [
  {
   "cell_type": "code",
   "execution_count": 44,
   "source": [
    "\r\n",
    "from nltk.tokenize import sent_tokenize, word_tokenize\r\n",
    "import gensim\r\n",
    "from gensim.models import Word2Vec"
   ],
   "outputs": [],
   "metadata": {}
  },
  {
   "cell_type": "code",
   "execution_count": 45,
   "source": [
    "text = open(\"Datas/auto.txt\", 'r', encoding='utf8')\r\n",
    "s = text.read()\r\n",
    "f = s.replace(\"\\n\", \" \")"
   ],
   "outputs": [],
   "metadata": {}
  },
  {
   "cell_type": "code",
   "execution_count": 49,
   "source": [
    "data = []\r\n",
    "\r\n",
    "# iterate through each sentence in the file\r\n",
    "for i in sent_tokenize(f):\r\n",
    "    temp = []\r\n",
    "      \r\n",
    "    # tokenize the sentence into words\r\n",
    "    for j in word_tokenize(i):\r\n",
    "        temp.append(j.lower())\r\n",
    "  \r\n",
    "    data.append(temp)\r\n",
    "\r\n",
    "print(len(data))\r\n",
    "print(data)"
   ],
   "outputs": [
    {
     "output_type": "stream",
     "name": "stdout",
     "text": [
      "27\n",
      "[['nejvýznamnější', 'část', 'historie', 'automobilů', 'se', 'začala', 'psát', 'koncem', '18.', 'století', ',', 'kdy', 'byly', 'realizovány', 'první', 'úspěšné', 'pokusy', 's', 'vozidly', 'poháněnými', 'parním', 'strojem', '.'], ['k', 'jejich', 'prvním', 'konstruktérům', 'patřili', 'skot', 'james', 'watt', 'a', 'nebo', 'francouz', 'nicolas', 'joseph', 'cugnot', '.'], ['jeho', 'parní', 'stroj', 'uvezl', 'v', 'roce', '1769', 'čtyři', 'pasažéry', 'a', 'dokázal', 'vyvinout', 'rychlost', 'až', '9', 'km', 'za', 'hodinu', '.'], ['počátek', '19.', 'století', 'byl', 'stále', 'doménou', 'parních', 'strojů', ',', 'které', 'se', 'postupně', 'zlepšovaly', 'a', 'zrychlovaly', '.'], ['nic', 'to', 'ovšem', 'neměnilo', 'na', 'jejich', 'provozní', 'náročnosti', 'a', 'těžkopádnosti', '.'], ['zvrat', 'nastal', 've', 'druhé', 'polovině', '19.', 'století', ',', 'kdy', 'se', 'konstruktérům', 'podařilo', 'zprovoznit', 'první', 'spalovací', 'motory', '.'], ['v', 'letech', '1862', 'až', '1866', 'vyvinul', 'nicolaus', 'otto', 'první', 'čtyřdobý', 'spalovací', 'motor', '.'], ['vlastní', 'vývoj', 'dnešních', 'automobilů', 'začal', 'v', 'roce', '1885', 'v', 'německém', 'mannheimu', 'u', 'karla', 'benze', ',', 'který', 'si', 'nechal', 'patentovat', 'svoji', 'motorovou', 'tříkolku', '.'], ['první', 'dálkovou', 'jízdu', 's', 'automobilem', 'podnikla', 'bertha', 'benzová', '5.', 'srpna', '1888', ',', 'a', 'to', 'cestu', 'z', 'mannheimu', 'do', 'pforzheimu', '.'], ['v', 'roce', '1887', 'zcela', 'nezávisle', 'na', 'karlu', 'benzovi', 'začal', 'automobily', 'stavět', 'také', 'gottlieb', 'daimler', ',', 'který', 'při', 'výrobě', 'motorů', 'spolupracoval', 's', 'wilhelmem', 'maybachem', '.'], ['v', 'roce', '1897', 'pak', 'němec', 'rudolf', 'diesel', 'sestrojil', 'první', 'provozuschopný', 'vznětový', 'motor', '.'], ['prvním', 'automobilem', 'vyrobeným', 'na', 'území', 'dnešní', 'české', 'republiky', 'byl', 'v', 'letech', '1888-1889', 'druhý', 'marcusův', 'automobil', 'vyrobený', 'v', 'adamovském', 'podniku', '.'], ['[', '1', ']', 'prvním', 'funkčním', 'automobilem', 'vyrobeným', 'na', 'území', 'dnešní', 'české', 'republiky', 'byl', 'v', 'roce', '1897', 'präsident', '(', 'na', 'počest', 'prezidenta', 'rakouského', 'autoklubu', ')', 'postavený', 'v', 'kopřivnické', 'vozovce', ',', 'tehdy', 'nesselsdorfer', 'wagenbaufabriksgesellschaft', '–', 've', 'zkratce', 'nw', ',', '(', 'dnešní', 'automobilka', 'tatra', ')', '.'], ['v', 'roce', '1898', 'následoval', 'první', 'nákladní', 'automobil', '.'], ['automobily', 'benz', 'začaly', 'být', 'roku', '1898', 'vybavovány', 'otočným', 'řídicím', 'čepem', '.'], ['[', '2', ']', 'počátkem', '20.', 'století', 'se', 'rovněž', 'objevily', 'první', 'elektromobily', '.'], ['soutěž', 'mezi', 'automobily', 's', 'parním', ',', 'elektrickým', 'a', 'spalovacím', 'motorem', 'trvala', 'téměř', 'až', 'do', 'konce', 'prvního', 'desetiletí', '20.', 'století', '.'], ['poté', 'začaly', 'dominovat', 'automobily', 'se', 'spalovacím', 'motorem', 'i', 'když', 'z', 'hlediska', 'efektivity', 'přenosu', 'energie', 'je', 'i', 'po', 'století', 'vývoje', 'dvakrát', 'výhodnější', 'elektromobil', '.'], ['elektromobil', 'je', 'zároveň', 'mnohem', 'šetrnější', 'k', 'životnímu', 'prostředí', '.'], ['jsou', 's', 'ním', 'spojovány', 'následující', 'výhody', ':', 'snížení', 'emisí', 'znečišťujících', 'látek', 'vypouštěných', 'do', 'ovzduší', ',', 'snížení', 'hlukové', 'zátěže', 'vznikající', 'při', 'provozu', 'vozidla', ',', 'snížení', 'emisí', 'skleníkových', 'plynů', 's', 'cílem', 'snížit', 'dopady', 'dopravy', 'na', 'změny', 'klimatu', 'a', 'snížení', 'spotřeby', 'fosilních', 'paliv', '.'], ['na', 'druhou', 'stranu', 'jsou', 'jako', 'hlavní', 'bariéry', 'rozšíření', 'používání', 'elektromobilů', 'uváděny', 'zejména', 'technické', 'parametry', ',', 'např', '.'], ['vlastnosti', 'baterie', '(', 'vysoká', 'cena', ',', 'doba', 'nabíjení', ',', 'kapacita', ')', ',', 'nejistá', 'životnost', 'a', 'bezpečnost', '.'], ['[', '3', ']', 'další', 'významnou', 'bariérou', 'je', 'dobíjecí', 'infrastruktura', 'a', 'její', 'dostupnost', 'a', 'flexibilita', ',', 'ale', 'také', 'standardizace', 'dobíjecích', 'systémů', 'a', 'stanic', '(', 'v', 'současnosti', 'se', 'používají', 'dva', 'hlavní', 'systémy', ':', 'chademo', 'a', 'ccs', ')', '.'], ['[', '4', ']', 'v', 'české', 'republice', 'lze', 'dostupnost', 'nabíjecích', 'stanic', 'zjistit', 'pomocí', 'aplikace', 'nabijto.cz', ',', 'která', 'poskytuje', 'mapu', 'dostupných', 'nabíjecích', 'stanic', 'pro', 'elektromobily', 'v', 'čr', '.'], ['[', '5', ']', 've', 'dvacátém', 'století', 'se', 'benzínem', 'či', 'naftou', 'poháněné', 'automobily', 'staly', 'nejvýznamnějším', 'dopravním', 'prostředkem', '.'], ['revoluci', 've', 'výrobě', 'a', 'masové', 'rozšíření', 'automobilů', 'odstartoval', 'v', 'usa', 'henry', 'ford', 'tím', ',', 'že', 'vymyslel', 'a', 'vyrobil', 'lidově', 'dostupný', 'automobil', '.'], ['slavný', 'ford', 'model', 't', 'byl', 'uveden', 'na', 'trh', 'v', 'roce', '1908', 'a', 'byl', 'vyráběn', 'až', 'do', 'roku', '1927', '.']]\n"
     ]
    }
   ],
   "metadata": {}
  },
  {
   "cell_type": "code",
   "execution_count": 67,
   "source": [
    "model = gensim.models.Word2Vec(data, vector_size=50,window=10, min_count=2,workers=10)\r\n",
    "model.train(data, total_examples=len(data), epochs=10)"
   ],
   "outputs": [
    {
     "output_type": "execute_result",
     "data": {
      "text/plain": [
       "(767, 5350)"
      ]
     },
     "metadata": {},
     "execution_count": 67
    }
   ],
   "metadata": {}
  },
  {
   "cell_type": "code",
   "execution_count": 73,
   "source": [
    "print(model.wv.most_similar('elektromobily'))"
   ],
   "outputs": [
    {
     "output_type": "stream",
     "name": "stdout",
     "text": [
      "[('také', 0.37817132472991943), ('20.', 0.3134496808052063), ('století', 0.29981136322021484), ('(', 0.27058035135269165), ('české', 0.25612881779670715), ('do', 0.23331505060195923), ('1898', 0.22616712749004364), ('spalovací', 0.22007159888744354), ('republiky', 0.21737700700759888), (']', 0.20358172059059143)]\n"
     ]
    }
   ],
   "metadata": {}
  },
  {
   "cell_type": "code",
   "execution_count": 77,
   "source": [
    "model.wv.doesnt_match('automobil motorovou fosilních roce'.split())"
   ],
   "outputs": [
    {
     "output_type": "execute_result",
     "data": {
      "text/plain": [
       "'automobil'"
      ]
     },
     "metadata": {},
     "execution_count": 77
    }
   ],
   "metadata": {}
  },
  {
   "cell_type": "code",
   "execution_count": 80,
   "source": [
    "model.wv.most_similar(positive=['elektromobily','stanic'], negative=['ford'], topn = 1)"
   ],
   "outputs": [
    {
     "output_type": "execute_result",
     "data": {
      "text/plain": [
       "[(']', 0.2947775423526764)]"
      ]
     },
     "metadata": {},
     "execution_count": 80
    }
   ],
   "metadata": {}
  },
  {
   "cell_type": "code",
   "execution_count": null,
   "source": [],
   "outputs": [],
   "metadata": {}
  }
 ],
 "metadata": {
  "orig_nbformat": 4,
  "language_info": {
   "name": "python"
  }
 },
 "nbformat": 4,
 "nbformat_minor": 2
}